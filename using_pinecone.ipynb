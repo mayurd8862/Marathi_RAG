{
  "cells": [
    {
      "cell_type": "markdown",
      "metadata": {
        "id": "nSB0pnt0gbOo"
      },
      "source": [
        "## 🔮 बोल  भिडू ! "
      ]
    },
    {
      "cell_type": "code",
      "execution_count": 89,
      "metadata": {
        "id": "rACbepFGgbOo"
      },
      "outputs": [],
      "source": [
        "import cohere\n",
        "import streamlit as st\n",
        "\n",
        "co = cohere.Client(st.secrets.COHERE_API_KEY)\n",
        "# pc = Pinecone(api_key=st.secrets.PINECONE_API_KEY)\n"
      ]
    },
    {
      "cell_type": "markdown",
      "metadata": {},
      "source": [
        "### 1. Loading document"
      ]
    },
    {
      "cell_type": "code",
      "execution_count": 71,
      "metadata": {},
      "outputs": [
        {
          "name": "stdout",
          "output_type": "stream",
          "text": [
            "The text has roughly 1030 words.\n"
          ]
        }
      ],
      "source": [
        "with open(\"C:/Users/mayur dabade/Desktop/Projects/marathi RAG/data/maharaj.txt\", encoding='utf-8') as f:\n",
        "    text = f.read()\n",
        "\n",
        "print(f\"The text has roughly {len(text.split())} words.\")"
      ]
    },
    {
      "cell_type": "markdown",
      "metadata": {
        "id": "-1aJ7hKGgbOr"
      },
      "source": [
        "### 2. Splitting doc into chunks"
      ]
    },
    {
      "cell_type": "code",
      "execution_count": 72,
      "metadata": {
        "colab": {
          "base_uri": "https://localhost:8080/"
        },
        "id": "ZUph1JX41665",
        "outputId": "6c63a93f-6999-47af-e704-d4a88727bc75"
      },
      "outputs": [],
      "source": [
        "# For chunking let's use langchain to help us split the text\n",
        "from langchain_text_splitters import RecursiveCharacterTextSplitter"
      ]
    },
    {
      "cell_type": "code",
      "execution_count": 73,
      "metadata": {
        "colab": {
          "base_uri": "https://localhost:8080/"
        },
        "id": "uhXW7iHC1-Q6",
        "outputId": "d68ac348-4b73-4c6a-a445-6c510bdb0881"
      },
      "outputs": [
        {
          "name": "stdout",
          "output_type": "stream",
          "text": [
            "The text has been broken down in 15 chunks.\n"
          ]
        }
      ],
      "source": [
        "# Create basic configurations to chunk the text\n",
        "text_splitter = RecursiveCharacterTextSplitter(\n",
        "    chunk_size=512,\n",
        "    chunk_overlap=50,\n",
        "    length_function=len,\n",
        "    is_separator_regex=False,\n",
        ")\n",
        "\n",
        "# Split the text into chunks with some overlap\n",
        "chunks_ = text_splitter.create_documents([text])\n",
        "chunks = [c.page_content for c in chunks_]\n",
        "print(f\"The text has been broken down in {len(chunks)} chunks.\")"
      ]
    },
    {
      "cell_type": "markdown",
      "metadata": {
        "id": "P8g0sE2hgbOs"
      },
      "source": [
        "### 3. Embed every text chunk\n"
      ]
    },
    {
      "cell_type": "code",
      "execution_count": 74,
      "metadata": {
        "colab": {
          "base_uri": "https://localhost:8080/"
        },
        "id": "KEarMPEqgbOs",
        "outputId": "7da0e06d-f637-4470-8e01-6de8249be64b"
      },
      "outputs": [
        {
          "name": "stdout",
          "output_type": "stream",
          "text": [
            "We just computed 15 embeddings.\n"
          ]
        }
      ],
      "source": [
        "# Because the texts being embedded are the chunks we are searching over, we set the input type as search_doc\n",
        "model=\"embed-multilingual-v3.0\"\n",
        "response = co.embed(\n",
        "    texts= chunks,\n",
        "    model=model,\n",
        "    input_type=\"search_document\",\n",
        "    embedding_types=['float']\n",
        ")\n",
        "embeddings = response.embeddings.float\n",
        "print(f\"We just computed {len(embeddings)} embeddings.\")"
      ]
    },
    {
      "cell_type": "code",
      "execution_count": null,
      "metadata": {},
      "outputs": [],
      "source": []
    },
    {
      "cell_type": "markdown",
      "metadata": {},
      "source": [
        "### Storing id, chunks and embeddings to pinecone"
      ]
    },
    {
      "cell_type": "code",
      "execution_count": 75,
      "metadata": {},
      "outputs": [],
      "source": [
        "# import os\n",
        "# from pinecone import Pinecone, ServerlessSpec\n",
        "\n",
        "# # Initialize Pinecone with your API key\n",
        "# api_key = os.getenv(\"PINECONE_API_KEY\", \"6727bdcd-c680-4056-9398-64bedaaee775\")\n",
        "# pc = Pinecone(api_key=api_key)\n",
        "\n",
        "# # Create a serverless index\n",
        "# # Ensure \"dimension\" matches the dimensions of the vectors you upsert\n",
        "# pc.create_index(name=\"products\", dimension=len(embeddings[0]), \n",
        "#                 spec=ServerlessSpec(cloud='aws', region='us-east-1'))\n",
        "\n",
        "# # Target the index\n",
        "# index = pc.Index(\"products\")\n",
        "\n",
        "# # Prepare the vectors and metadata for upsert\n",
        "# vectors_to_upsert = []\n",
        "# for i, (chunk, embedding) in enumerate(zip(chunks, embeddings)):\n",
        "#     vector = {\n",
        "#         \"id\": f\"vector_{i}\",\n",
        "#         \"values\": embedding,\n",
        "#         \"metadata\": {\"description\": chunk}\n",
        "#     }\n",
        "#     vectors_to_upsert.append(vector)\n",
        "\n",
        "# # Upsert vectors into the Pinecone index\n",
        "# index.upsert(vectors=vectors_to_upsert)\n",
        "\n",
        "# print(\"Vectors successfully upserted into Pinecone!\")\n"
      ]
    },
    {
      "cell_type": "markdown",
      "metadata": {},
      "source": [
        "### 4. Storing ids and embeddings to pinecone"
      ]
    },
    {
      "cell_type": "code",
      "execution_count": 76,
      "metadata": {},
      "outputs": [
        {
          "name": "stdout",
          "output_type": "stream",
          "text": [
            "Vectors successfully upserted into Pinecone!\n"
          ]
        }
      ],
      "source": [
        "import os\n",
        "from pinecone import Pinecone, ServerlessSpec\n",
        "\n",
        "# Initialize Pinecone with your API key\n",
        "pc = Pinecone(api_key=st.secrets.PINECONE_API_KEY)\n",
        "\n",
        "# Create a serverless index\n",
        "# Ensure \"dimension\" matches the dimensions of the vectors you upsert\n",
        "pc.create_index(name=\"product\", dimension=len(embeddings[0]), \n",
        "                spec=ServerlessSpec(cloud='aws', region='us-east-1'))\n",
        "\n",
        "# Target the index\n",
        "index = pc.Index(\"product\")\n",
        "\n",
        "# Prepare the vectors for upsert (only id and embedding)\n",
        "vectors_to_upsert = []\n",
        "for i, embedding in enumerate(embeddings):\n",
        "    vector = {\n",
        "        \"id\": f\"{i}\",\n",
        "        \"values\": embedding\n",
        "    }\n",
        "    vectors_to_upsert.append(vector)\n",
        "\n",
        "# Upsert vectors into the Pinecone index\n",
        "index.upsert(vectors=vectors_to_upsert)\n",
        "\n",
        "print(\"Vectors successfully upserted into Pinecone!\")\n"
      ]
    },
    {
      "cell_type": "markdown",
      "metadata": {
        "id": "q6NGVurZgbOs"
      },
      "source": [
        "### 5. Given a user query, retrieve the relevant chunks from the vector database\n"
      ]
    },
    {
      "cell_type": "markdown",
      "metadata": {
        "id": "eC05yJQ7jlek"
      },
      "source": [
        "### Define the user question"
      ]
    },
    {
      "cell_type": "code",
      "execution_count": 77,
      "metadata": {
        "id": "Y2HTxspKgbOs"
      },
      "outputs": [],
      "source": [
        "query = \"सगळ्यात जास्त शेअर असणाऱ्या भारतातील कंपनी?\"\n",
        "# query=\"सीसीआयने या मर्जरला काही अटींसह मंजुरी का दिली? या अटींचा उद्देश काय असू शकतो?\"\n",
        "# query = \"मुघल व आदिलशाही फौजांचा यशस्वीपणे सामना\"\n"
      ]
    },
    {
      "cell_type": "markdown",
      "metadata": {
        "id": "9oULg1tOjjOW"
      },
      "source": [
        "### 6. Embed the user question\n"
      ]
    },
    {
      "cell_type": "code",
      "execution_count": 78,
      "metadata": {
        "colab": {
          "base_uri": "https://localhost:8080/"
        },
        "id": "yrUuS6vXgbOs",
        "outputId": "0c64a930-f817-43c2-d775-1d9145cb304e"
      },
      "outputs": [],
      "source": [
        "# Because the text being embedded is the search query, we set the input type as search_query\n",
        "response = co.embed(\n",
        "    texts=[query],\n",
        "    model=model,\n",
        "    input_type=\"search_query\",\n",
        "    embedding_types=['float']\n",
        ")\n",
        "query_embedding = response.embeddings.float[0]\n",
        "# print(\"query_embedding: \", query_embedding)"
      ]
    },
    {
      "cell_type": "markdown",
      "metadata": {},
      "source": [
        "### 7. Retrieve the most relevant chunks from the vector database\n",
        "\n",
        "We use cosine similarity to find the most similar chunks"
      ]
    },
    {
      "cell_type": "code",
      "execution_count": 79,
      "metadata": {},
      "outputs": [
        {
          "name": "stdout",
          "output_type": "stream",
          "text": [
            "[{'id': '4', 'score': 0.63326323}, {'id': '11', 'score': 0.611728072}, {'id': '1', 'score': 0.609839082}]\n"
          ]
        }
      ],
      "source": [
        "index = pc.Index(\"product\")\n",
        "\n",
        "query_results1 = index.query(\n",
        "    # namespace=\"example-namespace1\",\n",
        "    vector=query_embedding,\n",
        "    top_k=3,\n",
        "    include_values=True\n",
        ")\n",
        "# query_results1\n",
        "\n",
        "# Extracting id and score\n",
        "result = [{'id': match['id'], 'score': match['score']} for match in query_results1['matches']]\n",
        "\n",
        "print(result)"
      ]
    },
    {
      "cell_type": "code",
      "execution_count": 80,
      "metadata": {},
      "outputs": [
        {
          "name": "stdout",
          "output_type": "stream",
          "text": [
            "[4, 11, 1]\n",
            "\n",
            " या या कंपनीत सर्वाधिक वर्चस्व हे रिलायन्स असणार आहे या कंपनीमध्ये डिजनी कड 3684% ंची भागीदारी असेल तर उरलेला 75% वाटा हा स्टार इंडियाचे सीईओ उदय शंकर आणि जेम्स मुरदोज यांच्या बोधी ट्री या जॉईंट व्हेंचर कडे असणार आहे मात्र या एकत्रीकरणासाठी कोर्टाद्वारे मान्यता प्राप्त संस्थेची परवानगी असणं गरजेचं आहे या परवानगी नंतरच या दोन कंपन्या एकत्र येऊ शकतात आता या डील साठी भारतातील कॉम्पिटिशन कमिशन ऑफ इंडिया म्हणजे सीसीआय ची परवानगी असणं आवश्यक होतं सीसीआय ही वैधानिक संस्था भारतीय बाजारपेठेतील स्पर्धा टिकवून ठेवणं\n",
            "\n",
            " सगळ्यात जास्त शेअर असणाऱ्या भारतातील डिजनी आणि आक्रमकपणे या क्षेत्रात आगेकू करणाऱ्या रिलायन्स च्या एकत्र येण्यामुळं भारतातील मीडिया क्षेत्रात एका जायंट मीडिया कंपनीचा जन्म होणं ही मोठी चिंतेची बाब असल्याचं बोललं जातंय आता येत्या काळात जेव्हा क्रिकेट सामन्यांचे प्रक्षेपण केलं जाईल तेव्हा क्रिकेटच्या दरम्यान ज्या जाहिराती दाखवल्या जातात त्यांचे दर हे इतर कोणताही स्पर्धक नसल्यामुळे खूप जास्त असतील त्यामुळे या जाहिरात कंपन्यांची बार्गेनिंग पावर ही कमी होईल याचा परिणाम जाहिरात क्षेत्रावर होऊ शकतो तिथल्या छोट्या\n",
            "\n",
            " इंडस्ट्रीज आणि डिजनी स्टार या दोन कंपन्यांच्या एकत्रीकरणासाठी कॉम्पिटिशन कमिशन ऑफ इंडिया म्हणजे सीसीआय कडून मंजुरी देण्यात आली आहे या दोन कंपन्यांच्या एकत्र येण्यानं देशातील सगळ्यात मोठ्या एंटरटेनमेंट कंपनीचा जन्म झालाय कारण या एकमेव कंपनीचं आता भारतातील तब्बल 34% ओटीटी मार्केटवर वर्चस्व असेल असं सांगितलं जातंय सध्या डिजनी आणि रिलायन्स या दोन्ही कंपन्या एकमेकांच्या प्रतिस्पर्धी आहेत पण आता या दोन्ही कंपन्या एकत्र आल्या तर त्यांच्याशी स्पर्धा करणं इतर कंपन्यांना अवघड जाणार आहे या दोन्ही कंपन्या एकत्र येऊन\n"
          ]
        }
      ],
      "source": [
        "ids = [int(item['id']) for item in result]\n",
        "print(ids)\n",
        "\n",
        "for i in ids:\n",
        "    print(\"\\n\",chunks[i])"
      ]
    },
    {
      "cell_type": "markdown",
      "metadata": {},
      "source": [
        "### Matching Chunks for the user query"
      ]
    },
    {
      "cell_type": "code",
      "execution_count": 81,
      "metadata": {},
      "outputs": [],
      "source": [
        "context = \"\\n\\n\".join(chunks[i] for i in ids)\n",
        "# print(context)"
      ]
    },
    {
      "cell_type": "markdown",
      "metadata": {},
      "source": [
        "### 8. designing final answer"
      ]
    },
    {
      "cell_type": "code",
      "execution_count": 82,
      "metadata": {},
      "outputs": [],
      "source": [
        "\n",
        "\n",
        "template = f\"\"\"Use the following pieces of context to answer the user question. This context retrieved from a knowledge base and you should use only the facts from the context to answer.\n",
        "Your answer must be based on the context. If the context not contain the answer, just say that 'I don't know', don't try to make up an answer, use the context.\n",
        "Don't address the context directly, but use it to answer the user question like it's your own knowledge.\n",
        "Use three sentences maximum. answer should be in Marathi.\n",
        "\n",
        "Context:\n",
        "{context}\n",
        "\n",
        "Question: {query}\n",
        "\"\"\"\n"
      ]
    },
    {
      "cell_type": "code",
      "execution_count": 85,
      "metadata": {},
      "outputs": [
        {
          "name": "stdout",
          "output_type": "stream",
          "text": [
            "सगळ्यात जास्त शेअर असणारी भारतीय कंपनी ही रिलायन्स आहे.\n"
          ]
        }
      ],
      "source": [
        "import getpass\n",
        "import os\n",
        "from langchain_google_genai import ChatGoogleGenerativeAI\n",
        "if \"GOOGLE_API_KEY\" not in os.environ:\n",
        "    os.environ[\"GOOGLE_API_KEY\"] = getpass.getpass(st.secrets.GOOGLE_API_KEY)\n",
        "\n",
        "llm = ChatGoogleGenerativeAI(model=\"gemini-pro\")\n",
        "result = llm.invoke(template)\n",
        "print(result.content)"
      ]
    },
    {
      "cell_type": "code",
      "execution_count": null,
      "metadata": {},
      "outputs": [],
      "source": []
    },
    {
      "cell_type": "code",
      "execution_count": 84,
      "metadata": {},
      "outputs": [],
      "source": [
        "import numpy as np\n",
        "\n",
        "# Create a NumPy array\n",
        "arr = np.array(chunks)\n",
        "\n",
        "# Save the array to a .npy file\n",
        "np.save('my_array.npy', arr)\n"
      ]
    },
    {
      "cell_type": "code",
      "execution_count": 88,
      "metadata": {},
      "outputs": [
        {
          "name": "stdout",
          "output_type": "stream",
          "text": [
            "15\n"
          ]
        }
      ],
      "source": [
        "import numpy as np\n",
        "\n",
        "# Load the array from the .npy file\n",
        "arr = np.load('my_array.npy')\n",
        "\n",
        "# Verify the loaded array\n",
        "print(len(arr))\n"
      ]
    },
    {
      "cell_type": "code",
      "execution_count": null,
      "metadata": {
        "id": "Kp4c_HkYIEn_"
      },
      "outputs": [],
      "source": []
    }
  ],
  "metadata": {
    "colab": {
      "provenance": []
    },
    "kernelspec": {
      "display_name": "hackathon_docs_3",
      "language": "python",
      "name": "python3"
    },
    "language_info": {
      "codemirror_mode": {
        "name": "ipython",
        "version": 3
      },
      "file_extension": ".py",
      "mimetype": "text/x-python",
      "name": "python",
      "nbconvert_exporter": "python",
      "pygments_lexer": "ipython3",
      "version": "3.11.4"
    }
  },
  "nbformat": 4,
  "nbformat_minor": 0
}
