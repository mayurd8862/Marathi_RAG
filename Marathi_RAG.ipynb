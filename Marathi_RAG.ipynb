{
  "cells": [
    {
      "cell_type": "markdown",
      "metadata": {
        "id": "nSB0pnt0gbOo"
      },
      "source": [
        "## 🔮 बोल  भिडू ! "
      ]
    },
    {
      "cell_type": "code",
      "execution_count": 89,
      "metadata": {
        "id": "rACbepFGgbOo"
      },
      "outputs": [],
      "source": [
        "import cohere\n",
        "import streamlit as st\n",
        "co = cohere.Client(st.secrets.COHERE_API_KEY)\n"
      ]
    },
    {
      "cell_type": "markdown",
      "metadata": {},
      "source": [
        "### 1. Loading document"
      ]
    },
    {
      "cell_type": "code",
      "execution_count": 90,
      "metadata": {},
      "outputs": [
        {
          "name": "stdout",
          "output_type": "stream",
          "text": [
            "The text has roughly 1030 words.\n"
          ]
        }
      ],
      "source": [
        "with open(\"C:/Users/mayur dabade/Desktop/Projects/marathi RAG/data/maharaj.txt\", encoding='utf-8') as f:\n",
        "    text = f.read()\n",
        "\n",
        "print(f\"The text has roughly {len(text.split())} words.\")"
      ]
    },
    {
      "cell_type": "markdown",
      "metadata": {
        "id": "-1aJ7hKGgbOr"
      },
      "source": [
        "### 2. Splitting doc into chunks"
      ]
    },
    {
      "cell_type": "code",
      "execution_count": 91,
      "metadata": {
        "colab": {
          "base_uri": "https://localhost:8080/"
        },
        "id": "ZUph1JX41665",
        "outputId": "6c63a93f-6999-47af-e704-d4a88727bc75"
      },
      "outputs": [],
      "source": [
        "# For chunking let's use langchain to help us split the text\n",
        "from langchain_text_splitters import RecursiveCharacterTextSplitter"
      ]
    },
    {
      "cell_type": "code",
      "execution_count": 92,
      "metadata": {
        "colab": {
          "base_uri": "https://localhost:8080/"
        },
        "id": "uhXW7iHC1-Q6",
        "outputId": "d68ac348-4b73-4c6a-a445-6c510bdb0881"
      },
      "outputs": [
        {
          "name": "stdout",
          "output_type": "stream",
          "text": [
            "The text has been broken down in 15 chunks.\n"
          ]
        }
      ],
      "source": [
        "# Create basic configurations to chunk the text\n",
        "text_splitter = RecursiveCharacterTextSplitter(\n",
        "    chunk_size=512,\n",
        "    chunk_overlap=50,\n",
        "    length_function=len,\n",
        "    is_separator_regex=False,\n",
        ")\n",
        "\n",
        "# Split the text into chunks with some overlap\n",
        "chunks_ = text_splitter.create_documents([text])\n",
        "chunks = [c.page_content for c in chunks_]\n",
        "print(f\"The text has been broken down in {len(chunks)} chunks.\")"
      ]
    },
    {
      "cell_type": "markdown",
      "metadata": {
        "id": "P8g0sE2hgbOs"
      },
      "source": [
        "### 3. Embed every text chunk\n"
      ]
    },
    {
      "cell_type": "code",
      "execution_count": 93,
      "metadata": {
        "colab": {
          "base_uri": "https://localhost:8080/"
        },
        "id": "KEarMPEqgbOs",
        "outputId": "7da0e06d-f637-4470-8e01-6de8249be64b"
      },
      "outputs": [
        {
          "name": "stdout",
          "output_type": "stream",
          "text": [
            "We just computed 15 embeddings.\n"
          ]
        }
      ],
      "source": [
        "# Because the texts being embedded are the chunks we are searching over, we set the input type as search_doc\n",
        "model=\"embed-multilingual-v3.0\"\n",
        "response = co.embed(\n",
        "    texts= chunks,\n",
        "    model=model,\n",
        "    input_type=\"search_document\",\n",
        "    embedding_types=['float']\n",
        ")\n",
        "embeddings = response.embeddings.float\n",
        "print(f\"We just computed {len(embeddings)} embeddings.\")"
      ]
    },
    {
      "cell_type": "markdown",
      "metadata": {
        "id": "HM6vKeypgbOs"
      },
      "source": [
        "### 4. Store the embeddings in a vector database\n",
        "\n",
        "We use the simplest vector database ever: a python dictionary using `np.array()`."
      ]
    },
    {
      "cell_type": "code",
      "execution_count": 94,
      "metadata": {
        "id": "H2srFH-IgbOs"
      },
      "outputs": [],
      "source": [
        "import numpy as np\n",
        "vector_database = {i: np.array(embedding) for i, embedding in enumerate(embeddings)}\n",
        "# { 0: array([...]), 1: array([...]), 2: array([...]), ..., 10: array([...]) }"
      ]
    },
    {
      "cell_type": "markdown",
      "metadata": {
        "id": "q6NGVurZgbOs"
      },
      "source": [
        "### 5. Given a user query, retrieve the relevant chunks from the vector database\n"
      ]
    },
    {
      "cell_type": "markdown",
      "metadata": {
        "id": "eC05yJQ7jlek"
      },
      "source": [
        "### Define the user question"
      ]
    },
    {
      "cell_type": "code",
      "execution_count": 95,
      "metadata": {
        "id": "Y2HTxspKgbOs"
      },
      "outputs": [],
      "source": [
        "# query = \"सगळ्यात जास्त शेअर असणाऱ्या भारतातील कंपनी?\"\n",
        "# query = \"रिलायन्स इंडस्ट्रीज आणि डिजनी स्टार यांच्या मर्जरमुळे भारतातील एंटरटेनमेंट इंडस्ट्रीमध्ये कोणते बदल होण्याची शक्यता आहे?\"\n",
        "query=\"सीसीआयने या मर्जरला काही अटींसह मंजुरी का दिली? या अटींचा उद्देश काय असू शकतो?\"\n",
        "# query = \"या मर्जरमुळे जागतिक पातळीवर भारताची प्रतिमा कशी बदलू शकते?\"\n"
      ]
    },
    {
      "cell_type": "markdown",
      "metadata": {
        "id": "9oULg1tOjjOW"
      },
      "source": [
        "### 6. Embed the user question\n"
      ]
    },
    {
      "cell_type": "code",
      "execution_count": 96,
      "metadata": {
        "colab": {
          "base_uri": "https://localhost:8080/"
        },
        "id": "yrUuS6vXgbOs",
        "outputId": "0c64a930-f817-43c2-d775-1d9145cb304e"
      },
      "outputs": [],
      "source": [
        "# Because the text being embedded is the search query, we set the input type as search_query\n",
        "response = co.embed(\n",
        "    texts=[query],\n",
        "    model=model,\n",
        "    input_type=\"search_query\",\n",
        "    embedding_types=['float']\n",
        ")\n",
        "query_embedding = response.embeddings.float[0]\n",
        "# print(\"query_embedding: \", query_embedding)"
      ]
    },
    {
      "cell_type": "markdown",
      "metadata": {
        "id": "8K8B87CGgbOt"
      },
      "source": [
        "### 7. Retrieve the most relevant chunks from the vector database\n",
        "\n",
        "We use cosine similarity to find the most similar chunks"
      ]
    },
    {
      "cell_type": "code",
      "execution_count": 97,
      "metadata": {
        "colab": {
          "base_uri": "https://localhost:8080/"
        },
        "id": "nik3es32gbOt",
        "outputId": "a1c30024-52e1-42c7-8836-a2c590559aca"
      },
      "outputs": [
        {
          "name": "stdout",
          "output_type": "stream",
          "text": [
            "similarity scores:  [0.39042216797176, 0.535859393001034, 0.5209220639794689, 0.5239729444354693, 0.580017305183357, 0.6314604602118782, 0.4650150473179502, 0.5710279982043929, 0.47029629840894555, 0.4687914650110989, 0.45571845249419357, 0.47513857655440933, 0.597099167130034, 0.541507375359911, 0.38312835166689446]\n",
            "Here are the indices of the top 5 chunks after retrieval:  [ 5 12  4  7 13]\n",
            "Here are the top 5 chunks after retrieval: \n",
            "\n",
            "\n",
            "== संस्था भारतीय बाजारपेठेतील स्पर्धा टिकवून ठेवणं तिला प्रोत्साहन देण्याचं काम करते रिलायन्स आणि डिजनीच्या डीलमुळं भारतीय एंटरटेनमेंट मार्केटमधली स्पर्धा नष्ट होण्याची भीती व्यक्त केली जात होती त्यामुळे सीसीआय या डील साठी आधी तयार नव्हती फेब्रुवारी पासून सीसीआय न्या या मर्जरला परवानगी देण्याचा निर्णय राखून ठेवला होता मात्र आता काही अटींसह 28 ऑगस्टला सीसीआयन या डीलला परवानगी दिली आहे या कंपनीला सीसीआय न दिलेल्या परवानगी नंतर आता डिजनीचे 80 आणि वायकॉम 18 चे 40 असे एकूण 120 टीव्ही चॅनल्स तयार होणाऱ्या नवीन\n",
            "\n",
            "== परिणाम जाहिरात क्षेत्रावर होऊ शकतो तिथल्या छोट्या कंपन्यांना ही स्पर्धा आर्थिक दृष्ट्या झेप नसेल अशी भीती सीसीआय ने व्यक्त केली आहे तसेच भारतात क्रिकेटचे कोट्यावधी चाहते आहेत त्यामुळे आयपीएल आणि इतर महत्त्वाच्या मॅचेस प्रेक्षक याच प्लॅटफॉर्मवर बघू शकणार आहेत प्रेक्षकांसमोर दुसरा कोणताही पर्याय शिल्लक नसल्यामुळे ही कंपनी आपल्या सबस्क्रिप्शनचे दर वाढवण्याची शक्यताही आहे त्यामुळे रिलायन्स आणि डिजनी मर्जर हे एकंदरीत पाहता आव्हानात्मक असल्याचं सीसीआयचं मत आहे यामुळे मुकेश अंबानी हे आता भारतातील एंटरटेनमेंट\n",
            "\n",
            "== या या कंपनीत सर्वाधिक वर्चस्व हे रिलायन्स असणार आहे या कंपनीमध्ये डिजनी कड 3684% ंची भागीदारी असेल तर उरलेला 75% वाटा हा स्टार इंडियाचे सीईओ उदय शंकर आणि जेम्स मुरदोज यांच्या बोधी ट्री या जॉईंट व्हेंचर कडे असणार आहे मात्र या एकत्रीकरणासाठी कोर्टाद्वारे मान्यता प्राप्त संस्थेची परवानगी असणं गरजेचं आहे या परवानगी नंतरच या दोन कंपन्या एकत्र येऊ शकतात आता या डील साठी भारतातील कॉम्पिटिशन कमिशन ऑफ इंडिया म्हणजे सीसीआय ची परवानगी असणं आवश्यक होतं सीसीआय ही वैधानिक संस्था भारतीय बाजारपेठेतील स्पर्धा टिकवून ठेवणं\n",
            "\n",
            "== आहेत आता आता या मर्जरमुळं त्यात डिज्नीची ही भर पडणार आहे तसंच डिज्नीचे 30 हजाराहून अधिक कंटेंट ॲसेट्स वापरण्याचा हक्क आणि डिजनीच्या सिनेमांचे भारतातील वितरणाचे हक्कही या नवीन कंपनीला मिळणार आहेत सगळ्यात महत्त्वाचं म्हणजे पुढची काही वर्ष तरी या कंपनीकडं भारतातील क्रिकेट प्रक्षेपणाचे एक हाती अधिकार असतील याचं कारण म्हणजे आयपीएल च्या ओटीटी प्रक्षेपणाचे हक्क हे वॉयकॉम कडे तर 2027 पर्यंत आयसीसी क्रिकेटच्या टीव्ही प्रक्षेपणाचे हक्क हे डिजनी कडे आहेत तसेच वुमन्स प्रीमियर लीग हे 2027 पर्यंतचे ग्लोबल मीडिया\n",
            "\n",
            "== यामुळे मुकेश अंबानी हे आता भारतातील एंटरटेनमेंट इंडस्ट्रीचे जायंट किंग ठरल्याचं बोललं जातंय यामध्ये मर्जरला कोर्टाची परवानगी असणं गरजेचं असल्यामुळे कोर्ट या गोष्टींचा विचार करणार का मर्जर साठी या दोन्ही कंपन्यांसमोर नेमक्या कुठल्या अटी ठेवणार हे पाहणं आता महत्त्वाचं असणार आहे पण एकंदरीतच या कंपनीत रिलायन्स चा वाटा हा सर्वाधिक असल्यानं मुकेश अंबानी आता एंटरटेनमेंट इंडस्ट्रीचेही एकटेच बॉस झाल्याच्या चर्चा होत आहेत तुम्हाला काय वाटतं या मर्जरमुळे मीडिया क्षेत्रात रिलायन्स ची मोनोपोली निर्माण होणार का आणि तसं\n"
          ]
        }
      ],
      "source": [
        "def cosine_similarity(a, b):\n",
        "    return np.dot(a, b) / (np.linalg.norm(a) * np.linalg.norm(b))\n",
        "\n",
        "# Calculate similarity between the user question & each chunk\n",
        "similarities = [cosine_similarity(query_embedding, chunk) for chunk in embeddings]\n",
        "print(\"similarity scores: \", similarities)\n",
        "\n",
        "# Get indices of the top 10 most similar chunks\n",
        "sorted_indices = np.argsort(similarities)[::-1]\n",
        "\n",
        "# Keep only the top 10 indices\n",
        "top_indices = sorted_indices[:5]\n",
        "print(\"Here are the indices of the top 5 chunks after retrieval: \", top_indices)\n",
        "\n",
        "# Retrieve the top 10 most similar chunks\n",
        "top_chunks_after_retrieval = [chunks[i] for i in top_indices]\n",
        "print(\"Here are the top 5 chunks after retrieval: \\n\")\n",
        "for t in top_chunks_after_retrieval:\n",
        "    print(\"\\n== \" + t)\n"
      ]
    },
    {
      "cell_type": "markdown",
      "metadata": {},
      "source": [
        "### 8. designing final answer"
      ]
    },
    {
      "cell_type": "code",
      "execution_count": 98,
      "metadata": {},
      "outputs": [],
      "source": [
        "# Prepare the context for the template\n",
        "context = \"\\n\".join(top_chunks_after_retrieval)\n",
        "\n",
        "# Template for the answer\n",
        "template = f\"\"\"Use the following pieces of context to answer the question at the end. If you don't know the answer, just say that you don't know, don't try to make up an answer. Use three sentences maximum. Keep the answer as concise as possible. answer should be in marathi\n",
        " \n",
        "{context}\n",
        "Question: {query}\n",
        "Helpful Answer:\"\"\"\n",
        "\n",
        "# print(template)"
      ]
    },
    {
      "cell_type": "code",
      "execution_count": 99,
      "metadata": {},
      "outputs": [
        {
          "name": "stdout",
          "output_type": "stream",
          "text": [
            "या प्रश्नाचे उत्तर दिलेल्या मजकूरात दिलेले नाही.\n"
          ]
        }
      ],
      "source": [
        "import getpass\n",
        "import os\n",
        "from langchain_google_genai import ChatGoogleGenerativeAI\n",
        "if \"GOOGLE_API_KEY\" not in os.environ:\n",
        "    os.environ[\"GOOGLE_API_KEY\"] = getpass.getpass(st.secrets.GOOGLE_API_KEY)\n",
        "\n",
        "llm = ChatGoogleGenerativeAI(model=\"gemini-pro\")\n",
        "result = llm.invoke(template)\n",
        "print(result.content)"
      ]
    },
    {
      "cell_type": "code",
      "execution_count": 100,
      "metadata": {},
      "outputs": [
        {
          "name": "stdout",
          "output_type": "stream",
          "text": [
            "सीसीआयने या मर्जरला 28 ऑगस्टला काही अटींसह मंजुरी दिली आहे. ह्या अटींचा उद्देश म्हणजे स्पर्धा टिकवून ठेवणं, क्रिकेटचे कोट्यावधी चाहते आणि प्रेक्षकांसमोर दुसरा कोणताही पर्याय शिल्लक नसल्यामुळे ही कंपनी आपल्या सबस्क्रिप्शनचे दर वाढवण्याची शक्यताही आहे.\n"
          ]
        }
      ],
      "source": [
        "from langchain_core.prompts import ChatPromptTemplate\n",
        "from langchain_groq import ChatGroq\n",
        "\n",
        "chat = ChatGroq(temperature=0, groq_api_key=st.secrets.GROQ_API_KEY, model_name=\"llama3-8b-8192\")\n",
        "\n",
        "\n",
        "system = \"You are a helpful assistant.\"\n",
        "human = \"{text}\"\n",
        "prompt = ChatPromptTemplate.from_messages([(\"system\", system), (\"human\", human)])\n",
        "\n",
        "chain = prompt | chat\n",
        "a = chain.invoke({\"text\": template})\n",
        "print(a.content)"
      ]
    },
    {
      "cell_type": "code",
      "execution_count": null,
      "metadata": {},
      "outputs": [],
      "source": []
    },
    {
      "cell_type": "code",
      "execution_count": null,
      "metadata": {},
      "outputs": [],
      "source": []
    },
    {
      "cell_type": "code",
      "execution_count": null,
      "metadata": {
        "id": "Kp4c_HkYIEn_"
      },
      "outputs": [],
      "source": []
    }
  ],
  "metadata": {
    "colab": {
      "provenance": []
    },
    "kernelspec": {
      "display_name": "hackathon_docs_3",
      "language": "python",
      "name": "python3"
    },
    "language_info": {
      "codemirror_mode": {
        "name": "ipython",
        "version": 3
      },
      "file_extension": ".py",
      "mimetype": "text/x-python",
      "name": "python",
      "nbconvert_exporter": "python",
      "pygments_lexer": "ipython3",
      "version": "3.11.4"
    }
  },
  "nbformat": 4,
  "nbformat_minor": 0
}
